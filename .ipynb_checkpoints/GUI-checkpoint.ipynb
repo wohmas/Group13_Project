{
 "cells": [
  {
   "cell_type": "code",
   "execution_count": 5,
   "metadata": {},
   "outputs": [
    {
     "ename": "SyntaxError",
     "evalue": "invalid syntax (508526881.py, line 2)",
     "output_type": "error",
     "traceback": [
      "\u001b[0;36m  File \u001b[0;32m\"/var/folders/48/t5h6n1r11rjdkp2v_n3mw0pc0000gn/T/ipykernel_59090/508526881.py\"\u001b[0;36m, line \u001b[0;32m2\u001b[0m\n\u001b[0;31m    pip install customtkinter\u001b[0m\n\u001b[0m        ^\u001b[0m\n\u001b[0;31mSyntaxError\u001b[0m\u001b[0;31m:\u001b[0m invalid syntax\n"
     ]
    }
   ],
   "source": [
    "# ! Uncomment the following to install !\n",
    "# pip install customtkinter"
   ]
  },
  {
   "cell_type": "code",
   "execution_count": 3,
   "metadata": {},
   "outputs": [],
   "source": [
    "\n",
    "# 1. Font Size\n",
    "# The letter of recommendation might not fit depending on the screen size\n",
    "# => bigger screen can solve this issue, such as large monitor connected to laptop\n",
    "\n",
    "# 2. Insert a photo to run"
   ]
  },
  {
   "cell_type": "code",
   "execution_count": 6,
   "metadata": {},
   "outputs": [
    {
     "ename": "ModuleNotFoundError",
     "evalue": "No module named 'customtkinter'",
     "output_type": "error",
     "traceback": [
      "\u001b[0;31m---------------------------------------------------------------------------\u001b[0m",
      "\u001b[0;31mModuleNotFoundError\u001b[0m                       Traceback (most recent call last)",
      "\u001b[0;32m/var/folders/48/t5h6n1r11rjdkp2v_n3mw0pc0000gn/T/ipykernel_59090/781863399.py\u001b[0m in \u001b[0;36m<module>\u001b[0;34m\u001b[0m\n\u001b[1;32m      1\u001b[0m \u001b[0;32mfrom\u001b[0m \u001b[0mtkinter\u001b[0m \u001b[0;32mimport\u001b[0m \u001b[0;34m*\u001b[0m\u001b[0;34m\u001b[0m\u001b[0;34m\u001b[0m\u001b[0m\n\u001b[0;32m----> 2\u001b[0;31m \u001b[0;32mimport\u001b[0m \u001b[0mcustomtkinter\u001b[0m\u001b[0;34m\u001b[0m\u001b[0;34m\u001b[0m\u001b[0m\n\u001b[0m\u001b[1;32m      3\u001b[0m \u001b[0;32mfrom\u001b[0m \u001b[0mPIL\u001b[0m \u001b[0;32mimport\u001b[0m \u001b[0mImageTk\u001b[0m\u001b[0;34m,\u001b[0m \u001b[0mImage\u001b[0m\u001b[0;34m\u001b[0m\u001b[0;34m\u001b[0m\u001b[0m\n\u001b[1;32m      4\u001b[0m \u001b[0;34m\u001b[0m\u001b[0m\n\u001b[1;32m      5\u001b[0m \u001b[0;32mimport\u001b[0m \u001b[0mnumpy\u001b[0m \u001b[0;32mas\u001b[0m \u001b[0mnp\u001b[0m\u001b[0;34m\u001b[0m\u001b[0;34m\u001b[0m\u001b[0m\n",
      "\u001b[0;31mModuleNotFoundError\u001b[0m: No module named 'customtkinter'"
     ]
    }
   ],
   "source": [
    "from tkinter import *\n",
    "import customtkinter\n",
    "from PIL import ImageTk, Image\n",
    "\n",
    "import numpy as np\n",
    "import matplotlib.pyplot as plt\n",
    "from matplotlib.backends.backend_tkagg import FigureCanvasTkAgg\n",
    "\n",
    "def testing():\n",
    "    x,y,s,c = np.random.rand(4,100)\n",
    "\n",
    "    # generate the figure and plot object which will be linked to the root element\n",
    "    fig, ax = plt.subplots()\n",
    "    fig.set_size_inches(8,4)\n",
    "    ax.scatter(x,y,s*50,c)\n",
    "    ax.axis(\"off\")\n",
    "    fig.subplots_adjust(left=0, right=1, bottom=0, top=1, wspace=0, hspace=0)\n",
    "    canvas = FigureCanvasTkAgg(fig,master=w)\n",
    "    canvas.draw()\n",
    "    canvas.get_tk_widget().place(relx=0.75, rely=0.6,  anchor=CENTER)\n",
    "\n",
    "\n",
    "def show():\n",
    "    w.deiconify()\n",
    " \n",
    "def hide():\n",
    "    w.withdraw()\n",
    "\n",
    "\n",
    "def button_function():\n",
    "    userName = user_name.get()\n",
    "    letter = '\"Letter of Recommendation.\"\\n\\nDear Admissions Committee,\\n\\nI am writing to recommend '+ userName +' for admission to your esteemed university\\'s graduate program in Environmental Science. As his professor for the past three years, I have been consistently impressed with his passion for and dedication to the field.\\n\\nTuomas is an exceptional student who consistently demonstrates a deep understanding of complex environmental systems, as well as the skills necessary to effectively research and analyze environmental issues. His academic achievements speak for themselves, as he has consistently earned top grades in all of his coursework and has been recognized by the department for his outstanding performance.\\n\\nBeyond his academic prowess, Tuomas possesses an insatiable curiosity and a deep desire to make a positive impact on the world around him. He has been heavily involved in various environmental initiatives on and off-campus, including leading a student group that educated the community on sustainable living practices. He is also an excellent communicator and collaborator, skills that will undoubtedly serve him well in any research or work environment.\\n\\nOverall, I am confident that Tuomas would be an asset to your graduate program in Environmental Science. His intellect, passion, and drive are precisely the qualities that are necessary to succeed in this field, and I am confident that he will excel in your program.\\n\\nPlease do not hesitate to contact me if you require any additional information about Tuomas or his abilities.\\n\\nSincerely,\\n\\nProfessor Jane Doe'\n",
    "    \n",
    "    app.destroy()            # destroy current window and creating new one \n",
    "\n",
    "    global w\n",
    "    w = customtkinter.CTk()\n",
    "    hide()\n",
    "    testing()\n",
    "  \n",
    "    Loading = customtkinter.CTkToplevel(w)\n",
    "    Loading.geometry('1280x720')\n",
    "    Loading.title(\"Group 13: Demo\")\n",
    "    l2 = customtkinter.CTkLabel(Loading, text = \"Loading...\", font=('Century Gothic',50))\n",
    "    l2.place(relx=0.5, rely=0.4,  anchor=CENTER)\n",
    "\n",
    "    progress = customtkinter.CTkProgressBar(master=Loading, width=500, height=25)\n",
    "    progress.place(relx=0.5, rely=0.55,  anchor=CENTER) \n",
    "    progress.start()\n",
    "    Loading.after(5000, func=Loading.destroy)\n",
    "\n",
    "    w.after(5000, func=show)\n",
    "    \n",
    "    w.geometry(\"1280x720\")\n",
    "    w.title('Group 13: Demo')\n",
    "    f1=customtkinter.CTkFrame(master=w, width=1260, height=400, corner_radius=10)\n",
    "    f1.place(relx=0.5, rely=0.15,  anchor=CENTER)\n",
    "\n",
    "    f2=customtkinter.CTkFrame(master=w, width=600, height=400, corner_radius=10)\n",
    "    #f3=customtkinter.CTkFrame(master=w, width=600, height=400, corner_radius=10)\n",
    "\n",
    "    f2.place(relx=0.25, rely=0.6,  anchor=CENTER)\n",
    "    #f3.place(relx=0.75, rely=0.6,  anchor=CENTER)\n",
    "\n",
    "    # ! 1. Font Size: currently 10 !\n",
    "    l1=customtkinter.CTkLabel(f1, text=letter,font=('Century Gothic', 10))\n",
    "    l1.pack(padx=10, pady=10)\n",
    "\n",
    "    # ! 2. Insert a photo: currently \"output.jpg\" !\n",
    "    img = ImageTk.PhotoImage(Image.open(\"output.jpg\"))\n",
    "    label = Label(f2, image = img)\n",
    "    label.pack()\n",
    "    \n",
    "\n",
    "    w.mainloop()\n",
    "\n",
    "app = customtkinter.CTk()\n",
    "app.geometry(\"1280x720\")\n",
    "app.title(\"Group 13: Demo\")\n",
    "\n",
    "frame1 = customtkinter.CTkFrame(master=app, width=1200, height=200, corner_radius=10)\n",
    "frame1.grid(row=0, column=0, padx=20, pady=35)\n",
    "\n",
    "title = customtkinter.CTkLabel(frame1, text=\"Analyze your letter of recommendation written by chatGPT\", font=(\"Century Gothic\", 40))\n",
    "title.pack(padx=40, pady=40)\n",
    "\n",
    "name_prompt = customtkinter.CTkLabel(app, text=\"Enter your full name:\", font=(\"Century Gothic\", 30, \"italic\"))\n",
    "name_prompt.place(relx=0.27, rely=0.5,  anchor=CENTER)\n",
    "\n",
    "user_name=customtkinter.CTkEntry(master=app, width=300, height=30, placeholder_text='Username')\n",
    "user_name.place(relx=0.55, rely=0.504,  anchor=CENTER)\n",
    "\n",
    "button1 = customtkinter.CTkButton(master=app, width=150, text=\"create\", command=button_function, corner_radius=6)\n",
    "button1.place(relx=0.54, rely=0.65,  anchor=CENTER)\n",
    "\n",
    "\n",
    "app.mainloop()"
   ]
  }
 ],
 "metadata": {
  "kernelspec": {
   "display_name": "Python 3 (ipykernel)",
   "language": "python",
   "name": "python3"
  },
  "language_info": {
   "codemirror_mode": {
    "name": "ipython",
    "version": 3
   },
   "file_extension": ".py",
   "mimetype": "text/x-python",
   "name": "python",
   "nbconvert_exporter": "python",
   "pygments_lexer": "ipython3",
   "version": "3.9.13"
  }
 },
 "nbformat": 4,
 "nbformat_minor": 4
}
