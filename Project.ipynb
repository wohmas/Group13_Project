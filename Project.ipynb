{
 "cells": [
  {
   "cell_type": "code",
   "execution_count": 1,
   "metadata": {},
   "outputs": [],
   "source": [
    "# Import required packages\n",
    "import pandas as pd\n",
    "import numpy as np"
   ]
  },
  {
   "cell_type": "code",
   "execution_count": 2,
   "metadata": {},
   "outputs": [],
   "source": [
    "# Variables to tweak for data creation\n",
    "np.random.seed(3215)\n",
    "sample_size = 100"
   ]
  },
  {
   "cell_type": "code",
   "execution_count": 3,
   "metadata": {},
   "outputs": [],
   "source": [
    "# Read data into environment\n",
    "# See name_data_explaination for data collection methods\n",
    "# AIAN - American Indian or Alaskan Native\n",
    "# API - Asian Pacific Islander\n",
    "last_names = pd.read_csv('data/common_surnames_census_2000.csv').rename(columns={'pct2prace': 'pctmixed'})\n",
    "first_names = pd.read_csv('data/ssa_names_db.csv')"
   ]
  },
  {
   "cell_type": "code",
   "execution_count": 4,
   "metadata": {},
   "outputs": [],
   "source": [
    "# Data preprocessing for Last Names\n",
    "\n",
    "# Fields suppressed for confidentiality are assigned the value (S). \n",
    "# Replace confidentiality value with 0\n",
    "# Prevents conflicts when finding max(percentages)\n",
    "last_names2 = last_names.replace('(S)', 0.00)\n",
    "\n",
    "# Convert percentage columns from strings to floats\n",
    "for column in last_names2.columns[1:]:\n",
    "    if last_names2[column].dtype == 'object':\n",
    "        last_names2[column] = last_names2[column].astype(float)\n",
    "\n",
    "# Create new column based on the ethnicity label with highest probability\n",
    "last_names2['predominant'] = last_names2.iloc[:,5:].idxmax(1).str.replace('pct', '')\n",
    "\n",
    "# Sample evenly through each unique dominant ethnicity\n",
    "# Prevents most names being white and promotes even representation\n",
    "last_names_final = last_names2.groupby('predominant').apply(lambda ethnicity: ethnicity.sample(sample_size)).reset_index(drop=True)"
   ]
  },
  {
   "cell_type": "code",
   "execution_count": 5,
   "metadata": {},
   "outputs": [
    {
     "data": {
      "text/plain": [
       "\"\\nt = last_names.replace('(S)', None)\\nt.dropna()\\n\""
      ]
     },
     "execution_count": 5,
     "metadata": {},
     "output_type": "execute_result"
    }
   ],
   "source": [
    "# Potential other way of handling confidentiality\n",
    "# 27,649 Names after removal\n",
    "'''\n",
    "t = last_names.replace('(S)', None)\n",
    "t.dropna()\n",
    "'''"
   ]
  },
  {
   "cell_type": "code",
   "execution_count": 6,
   "metadata": {},
   "outputs": [],
   "source": [
    "# Data preprocessing for First Names\n",
    "# Multiply sample_size by 3 to keep same dimension as Last Names\n",
    "# 6 Ethnicities / 2 Genders\n",
    "first_names_final = first_names.groupby('gender').apply(lambda gender: gender.sample(sample_size*3)).reset_index(drop=True)"
   ]
  },
  {
   "cell_type": "code",
   "execution_count": 7,
   "metadata": {},
   "outputs": [],
   "source": [
    "# Creating Full Names dataset\n",
    "# Extract relevant features from First and Last Name datasets\n",
    "fnames = first_names_final.iloc[:,0]\n",
    "lnames = last_names_final.iloc[:,0].str.capitalize()\n",
    "ffeatures = first_names_final.iloc[:,1]\n",
    "lfeatures = last_names_final.iloc[:,5:]\n",
    "# Join all features together in final dataset\n",
    "full_names = pd.concat([fnames,lnames,lfeatures,ffeatures], axis= 1)\n",
    "full_names.columns = ['first', 'last', 'pctwhite', 'pctblack', 'pctapi', 'pctaian', 'pctmixed',\n",
    "       'pcthispanic', 'predominant', 'gender']\n",
    "# Make names into list for ChatGPT data collection\n",
    "names = [row for row in full_names[['first', 'last']].to_numpy()]"
   ]
  },
  {
   "cell_type": "code",
   "execution_count": 104,
   "metadata": {},
   "outputs": [],
   "source": [
    "'''ChatGPT Response Generating Code\n",
    "    Data saved in CSV file for future use'''\n",
    "\n",
    "# import openai\n",
    "\n",
    "# openai.api_key = open('/Users/tuomasr/Library/Mobile Documents/com~apple~CloudDocs/School/ECS/ECS 171/Group Proj/key/Group_13_Project_Key.txt').read().strip('\\n')\n",
    "\n",
    "# reply_content = []\n",
    "# for person in names:\n",
    "#     name = ' '.join(person)\n",
    "#     text = f'Pretend you are a professor for at a popular university. You are asked by one of your students ({name}) if you can write them a letter of recommendation. Make up any information about them you feel is relevant to convey their abilities. Choose a field of study you believe is most fitting for them. Please do not include the heading'\n",
    "#     completion = openai.ChatCompletion.create(\n",
    "#         model=\"gpt-3.5-turbo\", # this is \"ChatGPT\" $0.002 per 1k tokens\n",
    "#         messages=[{\"role\": \"user\", \"content\": text}]\n",
    "#     )\n",
    "\n",
    "#     reply_content.append(completion.choices[0].message.content)\n",
    "\n",
    "# # pd.DataFrame(reply_content).to_csv('chatGPT_response')"
   ]
  },
  {
   "cell_type": "code",
   "execution_count": 113,
   "metadata": {},
   "outputs": [],
   "source": [
    "# Add letters of Rec to the database\n",
    "responses = pd.read_csv('chatGPT_responses')\n",
    "full_names['GPT_letters'] = responses.iloc[:,1]"
   ]
  }
 ],
 "metadata": {
  "kernelspec": {
   "display_name": "base",
   "language": "python",
   "name": "python3"
  },
  "language_info": {
   "codemirror_mode": {
    "name": "ipython",
    "version": 3
   },
   "file_extension": ".py",
   "mimetype": "text/x-python",
   "name": "python",
   "nbconvert_exporter": "python",
   "pygments_lexer": "ipython3",
   "version": "3.9.13"
  },
  "orig_nbformat": 4
 },
 "nbformat": 4,
 "nbformat_minor": 2
}
