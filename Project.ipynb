{
 "cells": [
  {
   "cell_type": "code",
   "execution_count": 1,
   "metadata": {},
   "outputs": [],
   "source": [
    "# Import required packages\n",
    "import pandas as pd\n",
    "import numpy as np"
   ]
  },
  {
   "cell_type": "code",
   "execution_count": 2,
   "metadata": {},
   "outputs": [],
   "source": [
    "# Variables to tweak for data creation\n",
    "sample_size = 10"
   ]
  },
  {
   "cell_type": "code",
   "execution_count": 3,
   "metadata": {},
   "outputs": [],
   "source": [
    "# Read data into environment\n",
    "last_names = pd.read_csv('data/common_surnames_census_2000.csv')\n",
    "first_names = pd.read_csv('data/ssa_names_db.csv')"
   ]
  },
  {
   "cell_type": "code",
   "execution_count": 4,
   "metadata": {},
   "outputs": [],
   "source": [
    "# Data preprocessing for Last Names\n",
    "\n",
    "# Replace unknown value with 0\n",
    "# Prevents conflicts when finding max(percentages)\n",
    "last_names2 = last_names.replace('(S)', 0.00)\n",
    "\n",
    "# Convert percentage columns from strings to floats\n",
    "for column in last_names2.columns[1:]:\n",
    "    if last_names2[column].dtype == 'object':\n",
    "        last_names2[column] = last_names2[column].astype(float)\n",
    "\n",
    "# Create new column based on the ethnicity label with highest probability\n",
    "last_names2['predominant'] = last_names2.iloc[:,5:].idxmax(1).str.replace('pct', '')\n",
    "\n",
    "# Sample evenly through each unique dominant ethnicity\n",
    "# Prevents most names being white and promotes even representation\n",
    "last_names_final = last_names2.groupby('predominant').apply(lambda ethnicity: ethnicity.sample(sample_size)).reset_index(drop=True)"
   ]
  }
 ],
 "metadata": {
  "kernelspec": {
   "display_name": "base",
   "language": "python",
   "name": "python3"
  },
  "language_info": {
   "codemirror_mode": {
    "name": "ipython",
    "version": 3
   },
   "file_extension": ".py",
   "mimetype": "text/x-python",
   "name": "python",
   "nbconvert_exporter": "python",
   "pygments_lexer": "ipython3",
   "version": "3.9.13"
  },
  "orig_nbformat": 4
 },
 "nbformat": 4,
 "nbformat_minor": 2
}
