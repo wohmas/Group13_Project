{
 "cells": [
  {
   "cell_type": "code",
   "execution_count": 1,
   "metadata": {},
   "outputs": [
    {
     "ename": "ModuleNotFoundError",
     "evalue": "No module named 'openai'",
     "output_type": "error",
     "traceback": [
      "\u001b[0;31m---------------------------------------------------------------------------\u001b[0m",
      "\u001b[0;31mModuleNotFoundError\u001b[0m                       Traceback (most recent call last)",
      "\u001b[0;32m/var/folders/48/t5h6n1r11rjdkp2v_n3mw0pc0000gn/T/ipykernel_39749/1521622020.py\u001b[0m in \u001b[0;36m<module>\u001b[0;34m\u001b[0m\n\u001b[0;32m----> 1\u001b[0;31m \u001b[0;32mimport\u001b[0m \u001b[0mopenai\u001b[0m\u001b[0;34m\u001b[0m\u001b[0;34m\u001b[0m\u001b[0m\n\u001b[0m\u001b[1;32m      2\u001b[0m \u001b[0;32mimport\u001b[0m \u001b[0mpandas\u001b[0m \u001b[0;32mas\u001b[0m \u001b[0mpd\u001b[0m\u001b[0;34m\u001b[0m\u001b[0;34m\u001b[0m\u001b[0m\n\u001b[1;32m      3\u001b[0m \u001b[0;32mfrom\u001b[0m \u001b[0msklearn\u001b[0m\u001b[0;34m.\u001b[0m\u001b[0mfeature_extraction\u001b[0m\u001b[0;34m.\u001b[0m\u001b[0mtext\u001b[0m \u001b[0;32mimport\u001b[0m \u001b[0mTfidfVectorizer\u001b[0m\u001b[0;34m\u001b[0m\u001b[0;34m\u001b[0m\u001b[0m\n\u001b[1;32m      4\u001b[0m \u001b[0;32mimport\u001b[0m \u001b[0mmatplotlib\u001b[0m\u001b[0;34m.\u001b[0m\u001b[0mpyplot\u001b[0m \u001b[0;32mas\u001b[0m \u001b[0mplt\u001b[0m\u001b[0;34m\u001b[0m\u001b[0;34m\u001b[0m\u001b[0m\n\u001b[1;32m      5\u001b[0m \u001b[0;32mfrom\u001b[0m \u001b[0mwordcloud\u001b[0m \u001b[0;32mimport\u001b[0m \u001b[0mWordCloud\u001b[0m\u001b[0;34m,\u001b[0m \u001b[0mSTOPWORDS\u001b[0m\u001b[0;34m\u001b[0m\u001b[0;34m\u001b[0m\u001b[0m\n",
      "\u001b[0;31mModuleNotFoundError\u001b[0m: No module named 'openai'"
     ]
    }
   ],
   "source": [
    "import openai\n",
    "import pandas as pd\n",
    "from sklearn.feature_extraction.text import TfidfVectorizer\n",
    "import matplotlib.pyplot as plt\n",
    "from wordcloud import WordCloud, STOPWORDS\n",
    "\n",
    "openai.api_key = open('/Users/tuomasr/Library/Mobile Documents/com~apple~CloudDocs/School/ECS/ECS 171/Group Proj/key/Group_13_Project_Key.txt').read().strip('\\n')\n",
    "\n",
    "def wordCloudGen(scores):\n",
    "    # change the value to black\n",
    "    def black_color (word, font_size, position, orientation, random_state = None, **kwargs):\n",
    "        return (\"hsl(0, 100%, 1%)\")\n",
    "\n",
    "    # set the background color to white\n",
    "    # word cloud for the fisrt person \"Baeley Parisien\"\n",
    "    wordcloud = WordCloud(stopwords=STOPWORDS, \n",
    "                          background_color = \"white\", \n",
    "                          width = 900, \n",
    "                          height = 500).generate_from_frequencies(scores.all())\n",
    "\n",
    "    # set the word color to black\n",
    "    wordcloud.recolor(color_func = black_color)\n",
    "\n",
    "    # set the figsize\n",
    "    # plt.figure(figsize = [15, 10])\n",
    "\n",
    "    plt.imshow(wordcloud, interpolation = \"bilinear\")\n",
    "    plt.axis(\"off\")\n",
    "    plt.show()\n",
    "\n",
    "def letter_gen(user_name):\n",
    "    name = ' '.join(user_name)\n",
    "    text = f'Pretend you are a professor for at a popular university. You are asked by one of your students ({name}) if you can write them a letter of recommendation. Make up any information about them you feel is relevant to convey their abilities. Choose a field of study you believe is most fitting for them. Please do not include the heading'\n",
    "    completion = openai.ChatCompletion.create(\n",
    "        model=\"gpt-3.5-turbo\", # this is \"ChatGPT\" $0.002 per 1k tokens\n",
    "        messages=[{\"role\": \"user\", \"content\": text}]\n",
    "    )\n",
    "    reply_content = completion.choices[0].message.content\n",
    "\n",
    "    # process data with tf-idf and exclude common stopwords\n",
    "    vectorizer = TfidfVectorizer(stop_words='english')\n",
    "    scores = vectorizer.fit_transform([reply_content]).toarray()\n",
    "\n",
    "    # get term/feature names\n",
    "    terms = vectorizer.get_feature_names_out()\n",
    "\n",
    "    # form table of names with tf-idf scores corresponding to each term in their responses\n",
    "    name_scores = pd.DataFrame(scores, columns=terms)\n",
    "    # name_scores.insert(0, 'name', user_name)\n",
    "\n",
    "    wordCloudGen(name_scores)"
   ]
  },
  {
   "cell_type": "code",
   "execution_count": null,
   "metadata": {},
   "outputs": [],
   "source": [
    "user = input('Enter Full Name: ')\n",
    "letter_gen(user)"
   ]
  }
 ],
 "metadata": {
  "kernelspec": {
   "display_name": "Python 3 (ipykernel)",
   "language": "python",
   "name": "python3"
  },
  "language_info": {
   "codemirror_mode": {
    "name": "ipython",
    "version": 3
   },
   "file_extension": ".py",
   "mimetype": "text/x-python",
   "name": "python",
   "nbconvert_exporter": "python",
   "pygments_lexer": "ipython3",
   "version": "3.9.13"
  }
 },
 "nbformat": 4,
 "nbformat_minor": 4
}
